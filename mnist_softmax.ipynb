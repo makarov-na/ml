{
  "nbformat": 4,
  "nbformat_minor": 0,
  "metadata": {
    "colab": {
      "name": "mnist_softmax.ipynb",
      "provenance": [],
      "private_outputs": true,
      "collapsed_sections": []
    },
    "kernelspec": {
      "name": "python3",
      "display_name": "Python 3"
    }
  },
  "cells": [
    {
      "cell_type": "code",
      "metadata": {
        "id": "HTjdZrAUGCPJ",
        "colab_type": "code",
        "colab": {}
      },
      "source": [
        "!pip install -q tensorflow tensorflow-datasets matplotlib"
      ],
      "execution_count": 0,
      "outputs": []
    },
    {
      "cell_type": "code",
      "metadata": {
        "id": "pY3oe4MuGX1B",
        "colab_type": "code",
        "colab": {}
      },
      "source": [
        "import matplotlib.pyplot as plt\n",
        "import numpy as np\n",
        "import tensorflow as tf\n",
        "import tensorflow_datasets as tfds\n",
        "import scipy as scipy\n",
        "\n",
        "print(\"tensorflow version: \" + tf.__version__)\n",
        "\n",
        "tf.compat.v1.enable_eager_execution()\n",
        "np.set_printoptions(linewidth=300)"
      ],
      "execution_count": 0,
      "outputs": []
    },
    {
      "cell_type": "code",
      "metadata": {
        "id": "QH7g9ZWkwkOT",
        "colab_type": "code",
        "colab": {}
      },
      "source": [
        "(x_train, y_train), (x_test, y_test)  = tf.keras.datasets.mnist.load_data()\n",
        "#(x_train, y_train), (x_test, y_test)  = tf.keras.datasets.cifar10.load_data()\n",
        "print (f'\\nInitial dataset: train - {x_train.shape} : {y_train.shape}, test - {x_test.shape} : {y_test.shape}')"
      ],
      "execution_count": 0,
      "outputs": []
    },
    {
      "cell_type": "code",
      "metadata": {
        "id": "3hBWPwN5wmMd",
        "colab_type": "code",
        "colab": {}
      },
      "source": [
        "print(f'\\nInput image for digit {y_train[0]} is {x_train[0].shape} shape:')\n",
        "print (x_train[0])"
      ],
      "execution_count": 0,
      "outputs": []
    },
    {
      "cell_type": "code",
      "metadata": {
        "id": "VNBzpTMywqmP",
        "colab_type": "code",
        "colab": {}
      },
      "source": [
        "normalizedX = (x_train.astype(np.float32) - 128) / 128\n",
        "print (f'\\nNormalized dataset: {normalizedX.shape}')\n",
        "print(f'\\nNormalized image for digit {y_train[0]} is {normalizedX[0].shape} shape:')\n",
        "print (normalizedX[0].round (1))"
      ],
      "execution_count": 0,
      "outputs": []
    },
    {
      "cell_type": "code",
      "metadata": {
        "id": "fjO4DhtGwsKO",
        "colab_type": "code",
        "colab": {}
      },
      "source": [
        "reshapedNormalizedX = normalizedX.reshape (len(normalizedX),normalizedX.shape[1] * normalizedX.shape[2])\n",
        "print (f'\\nNormalized images as vectors dataset: {reshapedNormalizedX.shape}')"
      ],
      "execution_count": 0,
      "outputs": []
    },
    {
      "cell_type": "code",
      "metadata": {
        "id": "MiA2GBcg9Qm1",
        "colab_type": "code",
        "colab": {}
      },
      "source": [
        "x = np.hstack((reshapedNormalizedX,np.ones((reshapedNormalizedX.shape[0],1))))\n",
        "print (f'\\nNormalized images with as vectors dataset with bias trick: {x.shape}')"
      ],
      "execution_count": 0,
      "outputs": []
    },
    {
      "cell_type": "code",
      "metadata": {
        "id": "xLzfLrL7IUJd",
        "colab_type": "code",
        "colab": {}
      },
      "source": [
        "classes = np.unique (y_train)\n",
        "print (f'\\nclasses: {classes}')"
      ],
      "execution_count": 0,
      "outputs": []
    },
    {
      "cell_type": "code",
      "metadata": {
        "id": "DM1A2lxWyThz",
        "colab_type": "code",
        "colab": {}
      },
      "source": [
        "classesQuantity = len(classes)\n",
        "print (f'\\nClasses quantity: {classesQuantity}')"
      ],
      "execution_count": 0,
      "outputs": []
    },
    {
      "cell_type": "code",
      "metadata": {
        "id": "Fk7b9W8iyR8C",
        "colab_type": "code",
        "colab": {}
      },
      "source": [
        "y = np.zeros((len(y_train), classesQuantity))\n",
        "y [np.arange(len(y_train)), y_train] = 1\n",
        "print (f'\\nClasses reshaped: {y.shape}')\n",
        "print (y)"
      ],
      "execution_count": 0,
      "outputs": []
    },
    {
      "cell_type": "code",
      "metadata": {
        "id": "ZVbo9Ifenxzp",
        "colab_type": "code",
        "colab": {}
      },
      "source": [
        "w = np.zeros([x.shape[1], classesQuantity])\n",
        "print (f'\\nInitial weighs: {w.shape} are zeros')\n",
        "print (w.round (2))"
      ],
      "execution_count": 0,
      "outputs": []
    },
    {
      "cell_type": "code",
      "metadata": {
        "id": "UdcaSGkIDIBz",
        "colab_type": "code",
        "colab": {}
      },
      "source": [
        "regularization = 0.1\n",
        "learningRage = 0.01\n",
        "\n",
        "def batchSoftmax (z):\n",
        "    z -= np.max(z)\n",
        "    sm = (np.exp(z).T / np.sum(np.exp(z), axis=1)).T\n",
        "    return sm\n",
        "\n",
        "def itemSoftmax (x):\n",
        "    return np.exp(x) / np.sum(np.exp(x))\n",
        "\n",
        "def getLoss (w, x, y):\n",
        "    batchSize = x.shape[0]\n",
        "    scores = np.dot(x,w)\n",
        "    prob = batchSoftmax(scores)\n",
        "    loss = (-1 / batchSize) * np.sum(y * np.log(prob)) + (regularization / 2) * np.sum (w * w)\n",
        "    grad = (-1 / batchSize) * np.dot(x.T,(y - prob)) + regularization * w\n",
        "    return loss,grad\n",
        "\n",
        "for i in range(0,10):\n",
        "    loss,grad = getLoss(w,x,y)\n",
        "    w = w - (learningRage * grad)\n",
        "\n",
        "    gt = y_train[i]\n",
        "    prob = itemSoftmax(x[i] @ w)\n",
        "    argmax = np.argmax (prob)\n",
        "\n",
        "    print(f'Loss: {loss.round(2)}, Class: {gt},  Pred: {argmax}, Pred prob: {prob[argmax].round(2)}, Class probe: {prob[gt].round(2)}')\n"
      ],
      "execution_count": 0,
      "outputs": []
    }
  ]
}